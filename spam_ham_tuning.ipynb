{
 "cells": [
  {
   "cell_type": "code",
   "execution_count": 1,
   "metadata": {
    "collapsed": true
   },
   "outputs": [],
   "source": [
    "import sys\n",
    "import numpy as np\n",
    "import math\n",
    "import pickle \n",
    "from tqdm import tqdm\n",
    "import nltk, re, pprint\n",
    "from nltk.tokenize import WordPunctTokenizer\n",
    "wpt = WordPunctTokenizer()\n",
    "np.set_printoptions(threshold='nan')"
   ]
  },
  {
   "cell_type": "code",
   "execution_count": 2,
   "metadata": {
    "collapsed": true
   },
   "outputs": [],
   "source": [
    "def get_data(file_name):\n",
    "    myfile = open(file_name)\n",
    "    mytext = myfile.read()\n",
    "    mytxt = mytext.splitlines()\n",
    "    myfile.close()\n",
    "    return mytxt\n"
   ]
  },
  {
   "cell_type": "code",
   "execution_count": 3,
   "metadata": {
    "collapsed": true
   },
   "outputs": [],
   "source": [
    "#get training data\n",
    "mytxt = get_data(\"SMSSpamCollection.train\")\n"
   ]
  },
  {
   "cell_type": "code",
   "execution_count": 4,
   "metadata": {
    "collapsed": true
   },
   "outputs": [],
   "source": [
    "#get dev data\n",
    "mytxt_dev = get_data(\"SMSSpamCollection.devel\")"
   ]
  },
  {
   "cell_type": "code",
   "execution_count": 5,
   "metadata": {
    "collapsed": true
   },
   "outputs": [],
   "source": [
    "#get test data\n",
    "mytxt_test = get_data(\"SMSSpamCollection.test\")"
   ]
  },
  {
   "cell_type": "code",
   "execution_count": 6,
   "metadata": {
    "collapsed": true
   },
   "outputs": [],
   "source": [
    "#all the words in training\n",
    "vocab_list = []\n",
    "for line in mytxt:\n",
    "    token_line = wpt.tokenize(line) \n",
    "    del token_line[0]\n",
    "    for token in token_line:\n",
    "        vocab_list.append(token)\n",
    "\n",
    "pickle.dump(vocab_list, open (\"vocab_list.p\", \"wb\"))\n"
   ]
  },
  {
   "cell_type": "code",
   "execution_count": 7,
   "metadata": {
    "collapsed": true
   },
   "outputs": [],
   "source": [
    "#getting the vocab list (features)\n",
    "ult_vocab = set(vocab_list)\n"
   ]
  },
  {
   "cell_type": "code",
   "execution_count": 8,
   "metadata": {
    "collapsed": true
   },
   "outputs": [],
   "source": [
    "#getting the original theta vector\n",
    "\n",
    "theta = []\n",
    "for i in range(0, len(ult_vocab)):\n",
    "\ttheta.append(0)\n",
    "theta.append(0) #add bias\n",
    "theta_array = np.asarray(theta)"
   ]
  },
  {
   "cell_type": "code",
   "execution_count": 9,
   "metadata": {
    "collapsed": true
   },
   "outputs": [],
   "source": [
    "#getting message vectors\n",
    "def message_vectors(data):\n",
    "    list_of_message_vectors = []\n",
    "    for line in tqdm(data):\n",
    "        message_vector = []\n",
    "        token_line = wpt.tokenize(line) \n",
    "        if token_line[0] == \"spam\":\n",
    "            message_vector.append(1)\n",
    "        else:\n",
    "            message_vector.append(0)\n",
    "        \n",
    "        hamless = token_line[1:]\n",
    "        for item in ult_vocab:\n",
    "            if item in hamless:\n",
    "                message_vector.append(hamless.count(item))\n",
    "            else:\n",
    "                message_vector.append(0)\n",
    "        message_vector.append(1) #adding \"fake feature\" to counter bias\n",
    "        message_vector_array = np.asarray(message_vector)\n",
    "        list_of_message_vectors.append(message_vector_array)\n",
    "    return list_of_message_vectors"
   ]
  },
  {
   "cell_type": "code",
   "execution_count": 10,
   "metadata": {},
   "outputs": [
    {
     "name": "stderr",
     "output_type": "stream",
     "text": [
      "100%|██████████| 3345/3345 [00:13<00:00, 245.53it/s]\n"
     ]
    },
    {
     "data": {
      "text/plain": [
       "3345"
      ]
     },
     "execution_count": 10,
     "metadata": {},
     "output_type": "execute_result"
    }
   ],
   "source": [
    "#getting the training data message vectors\n",
    "list_of_message_vectors = message_vectors(mytxt)\n",
    "list_of_message_vectors[5]\n",
    "len(list_of_message_vectors)"
   ]
  },
  {
   "cell_type": "code",
   "execution_count": 11,
   "metadata": {},
   "outputs": [
    {
     "name": "stderr",
     "output_type": "stream",
     "text": [
      "100%|██████████| 1115/1115 [00:04<00:00, 254.87it/s]\n"
     ]
    }
   ],
   "source": [
    "#getting the devel data message vectors\n",
    "list_of_message_vectors_dev = message_vectors(mytxt_dev)\n"
   ]
  },
  {
   "cell_type": "code",
   "execution_count": 29,
   "metadata": {},
   "outputs": [],
   "source": [
    "def train_tune(train_set, dev_set, theta_array, epochs, learning_rate):\n",
    "    list_of_thetas = []\n",
    "    accuracy_train = []\n",
    "    key_list = []\n",
    "    value_list = []\n",
    "    for mini_batch in tqdm(range(5, 25, 5)):\n",
    "        for epoch in tqdm(range(epochs)):\n",
    "\n",
    "            correct_list = []\n",
    "            wrong_list = []\n",
    "            np.random.shuffle(train_set)\n",
    "\n",
    "            for i in range(0, len(train_set) - mini_batch, mini_batch):\n",
    "                adjust = 0\n",
    "                for j in range(0, mini_batch):\n",
    "                    y = float(train_set[i + j][0])\n",
    "                    message_vector = train_set[i + j][1:]\n",
    "\n",
    "\n",
    "                    z = np.dot(theta_array, message_vector)\n",
    "                    sigmoid = 1 / (1 + math.exp(-z))\n",
    "                    adjust = adjust + learning_rate*(y - sigmoid)*message_vector\t\n",
    "                    if sigmoid >= 0.5:\n",
    "                        decision = 1\n",
    "                    else:\n",
    "                        decision =  0\n",
    "                    if decision == y:\n",
    "                        correct_list.append (1)\n",
    "                    else:\n",
    "                        wrong_list.append(0) \n",
    "\n",
    "\n",
    "                adjust = adjust/mini_batch\n",
    "                theta_array = theta_array + adjust\n",
    "                list_of_thetas.append(theta_array)\n",
    "\n",
    "            accuracy_train = float(len(correct_list))/ float(len(train_set))\n",
    "\n",
    "            accuracy_dev = []\n",
    "\n",
    "\n",
    "            correct_list_dev = []\n",
    "            wrong_list_dev = []\n",
    "            for message in dev_set:\n",
    "                message_vector = message[1:]\n",
    "                z = np.dot(theta_array, message_vector)\n",
    "                sigmoid = 1 / (1 + math.exp(-z))\n",
    "                y = message[0]\n",
    "                if sigmoid >= 0.5:\n",
    "                    decision = 1\n",
    "                else:\n",
    "                    decision =  0\n",
    "                if decision == y:\n",
    "                    correct_list_dev.append (1)\n",
    "                else:\n",
    "                    wrong_list_dev.append(0)\n",
    "\n",
    "            accuracy_dev = 100 * float(len(correct_list_dev))/ float(len(dev_set))\n",
    "            value_list.append(accuracy_dev)\n",
    "            key = str(epoch) + \" \" + str (mini_batch) + \" \" + str(learning_rate)\n",
    "            key_list.append(key)\n",
    "\n",
    "    \n",
    "    dictionary = dict(zip(key_list, value_list))\n",
    "    return dictionary, key_list \n"
   ]
  },
  {
   "cell_type": "code",
   "execution_count": 32,
   "metadata": {},
   "outputs": [
    {
     "name": "stderr",
     "output_type": "stream",
     "text": [
      "  0%|          | 0/4 [00:00<?, ?it/s]\n",
      "  0%|          | 0/50 [00:00<?, ?it/s]\u001b[A\n",
      "  2%|▏         | 1/50 [00:00<00:10,  4.83it/s]\u001b[A\n",
      "  4%|▍         | 2/50 [00:00<00:09,  4.95it/s]\u001b[A\n",
      "  6%|▌         | 3/50 [00:00<00:09,  5.02it/s]\u001b[A\n",
      "  8%|▊         | 4/50 [00:00<00:09,  5.06it/s]\u001b[A\n",
      " 10%|█         | 5/50 [00:00<00:08,  5.08it/s]\u001b[A\n",
      " 12%|█▏        | 6/50 [00:01<00:08,  5.10it/s]\u001b[A\n",
      " 14%|█▍        | 7/50 [00:01<00:08,  5.12it/s]\u001b[A\n",
      " 16%|█▌        | 8/50 [00:01<00:08,  5.12it/s]\u001b[A\n",
      " 18%|█▊        | 9/50 [00:01<00:08,  5.12it/s]\u001b[A\n",
      " 20%|██        | 10/50 [00:01<00:07,  5.13it/s]\u001b[A\n",
      " 22%|██▏       | 11/50 [00:02<00:07,  5.13it/s]\u001b[A\n",
      " 24%|██▍       | 12/50 [00:02<00:07,  5.13it/s]\u001b[A\n",
      " 26%|██▌       | 13/50 [00:02<00:07,  5.14it/s]\u001b[A\n",
      " 28%|██▊       | 14/50 [00:02<00:07,  5.14it/s]\u001b[A\n",
      " 30%|███       | 15/50 [00:02<00:06,  5.15it/s]\u001b[A\n",
      " 32%|███▏      | 16/50 [00:03<00:06,  5.14it/s]\u001b[A\n",
      " 34%|███▍      | 17/50 [00:03<00:06,  5.14it/s]\u001b[A\n",
      " 36%|███▌      | 18/50 [00:03<00:06,  5.13it/s]\u001b[A\n",
      " 38%|███▊      | 19/50 [00:03<00:06,  5.11it/s]\u001b[A\n",
      " 40%|████      | 20/50 [00:03<00:05,  5.10it/s]\u001b[A\n",
      " 42%|████▏     | 21/50 [00:04<00:05,  5.08it/s]\u001b[A\n",
      " 44%|████▍     | 22/50 [00:04<00:05,  5.08it/s]\u001b[A\n",
      " 46%|████▌     | 23/50 [00:04<00:05,  5.07it/s]\u001b[A\n",
      " 48%|████▊     | 24/50 [00:04<00:05,  5.05it/s]\u001b[A\n",
      " 50%|█████     | 25/50 [00:04<00:04,  5.06it/s]\u001b[A\n",
      " 52%|█████▏    | 26/50 [00:05<00:04,  5.06it/s]\u001b[A\n",
      " 54%|█████▍    | 27/50 [00:05<00:04,  5.07it/s]\u001b[A\n",
      " 56%|█████▌    | 28/50 [00:05<00:04,  5.07it/s]\u001b[A\n",
      " 58%|█████▊    | 29/50 [00:05<00:04,  5.07it/s]\u001b[A\n",
      " 60%|██████    | 30/50 [00:05<00:03,  5.08it/s]\u001b[A\n",
      " 62%|██████▏   | 31/50 [00:06<00:03,  5.08it/s]\u001b[A\n",
      " 64%|██████▍   | 32/50 [00:06<00:03,  5.09it/s]\u001b[A\n",
      " 66%|██████▌   | 33/50 [00:06<00:03,  5.09it/s]\u001b[A\n",
      " 68%|██████▊   | 34/50 [00:06<00:03,  5.09it/s]\u001b[A\n",
      " 70%|███████   | 35/50 [00:06<00:02,  5.10it/s]\u001b[A\n",
      " 72%|███████▏  | 36/50 [00:07<00:02,  5.10it/s]\u001b[A\n",
      " 74%|███████▍  | 37/50 [00:07<00:02,  5.09it/s]\u001b[A\n",
      " 76%|███████▌  | 38/50 [00:07<00:02,  5.08it/s]\u001b[A\n",
      " 78%|███████▊  | 39/50 [00:07<00:02,  5.07it/s]\u001b[A\n",
      " 80%|████████  | 40/50 [00:07<00:01,  5.08it/s]\u001b[A\n",
      " 82%|████████▏ | 41/50 [00:08<00:01,  5.07it/s]\u001b[A\n",
      " 84%|████████▍ | 42/50 [00:08<00:01,  5.07it/s]\u001b[A\n",
      " 86%|████████▌ | 43/50 [00:08<00:01,  5.07it/s]\u001b[A\n",
      " 88%|████████▊ | 44/50 [00:08<00:01,  4.98it/s]\u001b[A\n",
      " 90%|█████████ | 45/50 [00:09<00:01,  4.82it/s]\u001b[A\n",
      " 92%|█████████▏| 46/50 [00:09<00:00,  4.62it/s]\u001b[A\n",
      " 94%|█████████▍| 47/50 [00:10<00:00,  4.49it/s]\u001b[A\n",
      " 96%|█████████▌| 48/50 [00:11<00:00,  4.36it/s]\u001b[A\n",
      " 98%|█████████▊| 49/50 [00:11<00:00,  4.16it/s]\u001b[A\n",
      "100%|██████████| 50/50 [00:12<00:00,  4.04it/s]\u001b[A\n",
      " 25%|██▌       | 1/4 [00:12<00:37, 12.37s/it]\n",
      "  0%|          | 0/50 [00:00<?, ?it/s]\u001b[A\n",
      "  2%|▏         | 1/50 [00:00<00:34,  1.43it/s]\u001b[A\n",
      "  4%|▍         | 2/50 [00:01<00:25,  1.89it/s]\u001b[A\n",
      "  6%|▌         | 3/50 [00:01<00:21,  2.18it/s]\u001b[A\n",
      "  8%|▊         | 4/50 [00:01<00:19,  2.34it/s]\u001b[A\n",
      " 10%|█         | 5/50 [00:02<00:18,  2.39it/s]\u001b[A\n",
      " 12%|█▏        | 6/50 [00:02<00:18,  2.44it/s]\u001b[A\n",
      " 14%|█▍        | 7/50 [00:03<00:20,  2.11it/s]\u001b[A\n",
      " 16%|█▌        | 8/50 [00:03<00:19,  2.19it/s]\u001b[A\n",
      " 18%|█▊        | 9/50 [00:03<00:18,  2.26it/s]\u001b[A\n",
      " 20%|██        | 10/50 [00:04<00:17,  2.32it/s]\u001b[A\n",
      " 22%|██▏       | 11/50 [00:04<00:16,  2.35it/s]\u001b[A\n",
      " 24%|██▍       | 12/50 [00:05<00:17,  2.16it/s]\u001b[A\n",
      " 26%|██▌       | 13/50 [00:05<00:16,  2.21it/s]\u001b[A\n",
      " 28%|██▊       | 14/50 [00:06<00:16,  2.25it/s]\u001b[A\n",
      " 30%|███       | 15/50 [00:06<00:15,  2.28it/s]\u001b[A\n",
      " 32%|███▏      | 16/50 [00:06<00:14,  2.29it/s]\u001b[A\n",
      " 34%|███▍      | 17/50 [00:07<00:14,  2.33it/s]\u001b[A\n",
      " 36%|███▌      | 18/50 [00:08<00:14,  2.22it/s]\u001b[A\n",
      " 38%|███▊      | 19/50 [00:08<00:13,  2.24it/s]\u001b[A\n",
      " 40%|████      | 20/50 [00:08<00:13,  2.27it/s]\u001b[A\n",
      " 42%|████▏     | 21/50 [00:09<00:13,  2.18it/s]\u001b[A\n",
      " 44%|████▍     | 22/50 [00:10<00:12,  2.20it/s]\u001b[A\n",
      " 46%|████▌     | 23/50 [00:10<00:12,  2.21it/s]\u001b[A\n",
      " 48%|████▊     | 24/50 [00:10<00:11,  2.23it/s]\u001b[A\n",
      " 50%|█████     | 25/50 [00:11<00:11,  2.24it/s]\u001b[A\n",
      " 52%|█████▏    | 26/50 [00:12<00:11,  2.15it/s]\u001b[A\n",
      " 54%|█████▍    | 27/50 [00:12<00:10,  2.16it/s]\u001b[A\n",
      " 56%|█████▌    | 28/50 [00:12<00:10,  2.18it/s]\u001b[A\n",
      " 58%|█████▊    | 29/50 [00:13<00:09,  2.20it/s]\u001b[A\n",
      " 60%|██████    | 30/50 [00:13<00:09,  2.22it/s]\u001b[A\n",
      " 62%|██████▏   | 31/50 [00:13<00:08,  2.23it/s]\u001b[A\n",
      " 64%|██████▍   | 32/50 [00:14<00:08,  2.15it/s]\u001b[A\n",
      " 66%|██████▌   | 33/50 [00:15<00:07,  2.17it/s]\u001b[A\n",
      " 68%|██████▊   | 34/50 [00:15<00:07,  2.18it/s]\u001b[A\n",
      " 70%|███████   | 35/50 [00:15<00:06,  2.20it/s]\u001b[A\n",
      " 72%|███████▏  | 36/50 [00:16<00:06,  2.22it/s]\u001b[A\n",
      " 74%|███████▍  | 37/50 [00:16<00:05,  2.19it/s]\u001b[A\n",
      " 76%|███████▌  | 38/50 [00:17<00:05,  2.21it/s]\u001b[A\n",
      " 78%|███████▊  | 39/50 [00:17<00:04,  2.22it/s]\u001b[A\n",
      " 80%|████████  | 40/50 [00:17<00:04,  2.23it/s]\u001b[A\n",
      " 82%|████████▏ | 41/50 [00:18<00:04,  2.18it/s]\u001b[A\n",
      " 84%|████████▍ | 42/50 [00:19<00:03,  2.19it/s]\u001b[A\n",
      " 86%|████████▌ | 43/50 [00:19<00:03,  2.20it/s]\u001b[A\n",
      " 88%|████████▊ | 44/50 [00:19<00:02,  2.21it/s]\u001b[A\n",
      " 90%|█████████ | 45/50 [00:20<00:02,  2.22it/s]\u001b[A\n",
      " 92%|█████████▏| 46/50 [00:20<00:01,  2.23it/s]\u001b[A\n",
      " 94%|█████████▍| 47/50 [00:21<00:01,  2.20it/s]\u001b[A\n",
      " 96%|█████████▌| 48/50 [00:21<00:00,  2.21it/s]\u001b[A\n",
      " 98%|█████████▊| 49/50 [00:22<00:00,  2.22it/s]\u001b[A\n",
      "100%|██████████| 50/50 [00:22<00:00,  2.23it/s]\u001b[A\n",
      " 50%|█████     | 2/4 [00:34<00:34, 17.42s/it]\n",
      "  0%|          | 0/50 [00:00<?, ?it/s]\u001b[A\n",
      "  2%|▏         | 1/50 [00:00<00:39,  1.25it/s]\u001b[A\n",
      "  4%|▍         | 2/50 [00:01<00:27,  1.77it/s]\u001b[A\n",
      "  6%|▌         | 3/50 [00:01<00:22,  2.12it/s]\u001b[A\n",
      "  8%|▊         | 4/50 [00:01<00:19,  2.32it/s]\u001b[A\n",
      " 10%|█         | 5/50 [00:02<00:18,  2.44it/s]\u001b[A\n",
      " 12%|█▏        | 6/50 [00:02<00:17,  2.56it/s]\u001b[A\n",
      " 14%|█▍        | 7/50 [00:02<00:16,  2.66it/s]\u001b[A\n",
      " 16%|█▌        | 8/50 [00:02<00:15,  2.71it/s]\u001b[A\n",
      " 18%|█▊        | 9/50 [00:03<00:17,  2.30it/s]\u001b[A\n",
      " 20%|██        | 10/50 [00:04<00:16,  2.39it/s]\u001b[A\n",
      " 22%|██▏       | 11/50 [00:04<00:15,  2.48it/s]\u001b[A\n",
      " 24%|██▍       | 12/50 [00:04<00:14,  2.58it/s]\u001b[A\n",
      " 26%|██▌       | 13/50 [00:04<00:13,  2.64it/s]\u001b[A\n",
      " 28%|██▊       | 14/50 [00:05<00:13,  2.72it/s]\u001b[A\n",
      " 30%|███       | 15/50 [00:05<00:12,  2.78it/s]\u001b[A\n",
      " 32%|███▏      | 16/50 [00:05<00:12,  2.82it/s]\u001b[A\n",
      " 34%|███▍      | 17/50 [00:06<00:12,  2.61it/s]\u001b[A\n",
      " 36%|███▌      | 18/50 [00:06<00:12,  2.65it/s]\u001b[A\n",
      " 38%|███▊      | 19/50 [00:07<00:11,  2.71it/s]\u001b[A\n",
      " 40%|████      | 20/50 [00:07<00:10,  2.76it/s]\u001b[A\n",
      " 42%|████▏     | 21/50 [00:07<00:10,  2.82it/s]\u001b[A\n",
      " 44%|████▍     | 22/50 [00:07<00:09,  2.87it/s]\u001b[A\n",
      " 46%|████▌     | 23/50 [00:07<00:09,  2.89it/s]\u001b[A\n",
      " 48%|████▊     | 24/50 [00:08<00:09,  2.82it/s]\u001b[A\n",
      " 50%|█████     | 25/50 [00:08<00:08,  2.79it/s]\u001b[A\n",
      " 52%|█████▏    | 26/50 [00:09<00:08,  2.82it/s]\u001b[A\n",
      " 54%|█████▍    | 27/50 [00:09<00:08,  2.86it/s]\u001b[A\n",
      " 56%|█████▌    | 28/50 [00:09<00:07,  2.89it/s]\u001b[A\n",
      " 58%|█████▊    | 29/50 [00:09<00:07,  2.91it/s]\u001b[A\n",
      " 60%|██████    | 30/50 [00:10<00:07,  2.80it/s]\u001b[A\n",
      " 62%|██████▏   | 31/50 [00:11<00:06,  2.79it/s]\u001b[A\n",
      " 64%|██████▍   | 32/50 [00:11<00:06,  2.71it/s]\u001b[A\n",
      " 66%|██████▌   | 33/50 [00:12<00:06,  2.64it/s]\u001b[A\n",
      " 68%|██████▊   | 34/50 [00:13<00:06,  2.57it/s]\u001b[A\n",
      " 70%|███████   | 35/50 [00:14<00:06,  2.49it/s]\u001b[A\n",
      " 72%|███████▏  | 36/50 [00:14<00:05,  2.45it/s]\u001b[A\n",
      " 74%|███████▍  | 37/50 [00:15<00:05,  2.46it/s]\u001b[A\n",
      " 76%|███████▌  | 38/50 [00:15<00:04,  2.47it/s]\u001b[A\n",
      " 78%|███████▊  | 39/50 [00:15<00:04,  2.47it/s]\u001b[A\n",
      " 80%|████████  | 40/50 [00:16<00:04,  2.48it/s]\u001b[A\n",
      " 82%|████████▏ | 41/50 [00:16<00:03,  2.45it/s]\u001b[A\n",
      " 84%|████████▍ | 42/50 [00:17<00:03,  2.46it/s]\u001b[A\n",
      " 86%|████████▌ | 43/50 [00:17<00:02,  2.47it/s]\u001b[A\n",
      " 88%|████████▊ | 44/50 [00:17<00:02,  2.47it/s]\u001b[A\n",
      " 90%|█████████ | 45/50 [00:18<00:02,  2.44it/s]\u001b[A\n",
      " 92%|█████████▏| 46/50 [00:19<00:01,  2.41it/s]\u001b[A\n",
      " 94%|█████████▍| 47/50 [00:19<00:01,  2.42it/s]\u001b[A\n",
      " 96%|█████████▌| 48/50 [00:19<00:00,  2.41it/s]\u001b[A\n",
      " 98%|█████████▊| 49/50 [00:20<00:00,  2.43it/s]\u001b[A\n",
      "100%|██████████| 50/50 [00:20<00:00,  2.44it/s]\u001b[A\n",
      " 75%|███████▌  | 3/4 [00:55<00:18, 18.44s/it]\n",
      "  0%|          | 0/50 [00:00<?, ?it/s]\u001b[A\n",
      "  2%|▏         | 1/50 [00:00<00:14,  3.35it/s]\u001b[A\n",
      "  4%|▍         | 2/50 [00:00<00:22,  2.10it/s]\u001b[A\n",
      "  6%|▌         | 3/50 [00:01<00:19,  2.45it/s]\u001b[A\n",
      "  8%|▊         | 4/50 [00:01<00:17,  2.67it/s]\u001b[A\n"
     ]
    },
    {
     "name": "stderr",
     "output_type": "stream",
     "text": [
      " 10%|█         | 5/50 [00:01<00:15,  2.85it/s]\u001b[A\n",
      " 12%|█▏        | 6/50 [00:02<00:14,  2.95it/s]\u001b[A\n",
      " 14%|█▍        | 7/50 [00:02<00:14,  3.05it/s]\u001b[A\n",
      " 16%|█▌        | 8/50 [00:02<00:13,  3.11it/s]\u001b[A\n",
      " 18%|█▊        | 9/50 [00:02<00:12,  3.17it/s]\u001b[A\n",
      " 20%|██        | 10/50 [00:03<00:13,  3.01it/s]\u001b[A\n",
      " 22%|██▏       | 11/50 [00:03<00:12,  3.01it/s]\u001b[A\n",
      " 24%|██▍       | 12/50 [00:03<00:12,  3.05it/s]\u001b[A\n",
      " 26%|██▌       | 13/50 [00:04<00:11,  3.09it/s]\u001b[A\n",
      " 28%|██▊       | 14/50 [00:04<00:11,  3.03it/s]\u001b[A\n",
      " 30%|███       | 15/50 [00:04<00:11,  3.08it/s]\u001b[A\n",
      " 32%|███▏      | 16/50 [00:05<00:10,  3.11it/s]\u001b[A\n",
      " 34%|███▍      | 17/50 [00:05<00:10,  3.14it/s]\u001b[A\n",
      " 36%|███▌      | 18/50 [00:05<00:10,  3.11it/s]\u001b[A\n",
      " 38%|███▊      | 19/50 [00:06<00:10,  3.07it/s]\u001b[A\n",
      " 40%|████      | 20/50 [00:06<00:09,  3.10it/s]\u001b[A\n",
      " 42%|████▏     | 21/50 [00:06<00:09,  3.12it/s]\u001b[A\n",
      " 44%|████▍     | 22/50 [00:06<00:08,  3.15it/s]\u001b[A\n",
      " 46%|████▌     | 23/50 [00:07<00:08,  3.10it/s]\u001b[A\n",
      " 48%|████▊     | 24/50 [00:07<00:08,  3.11it/s]\u001b[A\n",
      " 50%|█████     | 25/50 [00:07<00:07,  3.13it/s]\u001b[A\n",
      " 52%|█████▏    | 26/50 [00:08<00:07,  3.15it/s]\u001b[A\n",
      " 54%|█████▍    | 27/50 [00:08<00:07,  3.16it/s]\u001b[A\n",
      " 56%|█████▌    | 28/50 [00:08<00:07,  3.13it/s]\u001b[A\n",
      " 58%|█████▊    | 29/50 [00:09<00:06,  3.14it/s]\u001b[A\n",
      " 60%|██████    | 30/50 [00:09<00:06,  3.15it/s]\u001b[A\n",
      " 62%|██████▏   | 31/50 [00:10<00:06,  3.01it/s]\u001b[A\n",
      " 64%|██████▍   | 32/50 [00:10<00:05,  3.01it/s]\u001b[A\n",
      " 66%|██████▌   | 33/50 [00:10<00:05,  3.02it/s]\u001b[A\n",
      " 68%|██████▊   | 34/50 [00:11<00:05,  3.01it/s]\u001b[A\n",
      " 70%|███████   | 35/50 [00:11<00:04,  3.02it/s]\u001b[A\n",
      " 72%|███████▏  | 36/50 [00:11<00:04,  3.03it/s]\u001b[A\n",
      " 74%|███████▍  | 37/50 [00:12<00:04,  3.03it/s]\u001b[A\n",
      " 76%|███████▌  | 38/50 [00:12<00:04,  2.99it/s]\u001b[A\n",
      " 78%|███████▊  | 39/50 [00:12<00:03,  3.00it/s]\u001b[A\n",
      " 80%|████████  | 40/50 [00:13<00:03,  3.02it/s]\u001b[A\n",
      " 82%|████████▏ | 41/50 [00:13<00:02,  3.03it/s]\u001b[A\n",
      " 84%|████████▍ | 42/50 [00:13<00:02,  3.05it/s]\u001b[A\n",
      " 86%|████████▌ | 43/50 [00:14<00:02,  2.99it/s]\u001b[A\n",
      " 88%|████████▊ | 44/50 [00:14<00:01,  3.00it/s]\u001b[A\n",
      " 90%|█████████ | 45/50 [00:14<00:01,  3.01it/s]\u001b[A\n",
      " 92%|█████████▏| 46/50 [00:15<00:01,  3.02it/s]\u001b[A\n",
      " 94%|█████████▍| 47/50 [00:15<00:00,  3.03it/s]\u001b[A\n",
      " 96%|█████████▌| 48/50 [00:15<00:00,  3.04it/s]\u001b[A\n",
      " 98%|█████████▊| 49/50 [00:16<00:00,  3.03it/s]\u001b[A\n",
      "100%|██████████| 50/50 [00:16<00:00,  3.04it/s]\u001b[A\n",
      "100%|██████████| 4/4 [01:11<00:00, 17.95s/it]"
     ]
    },
    {
     "name": "stdout",
     "output_type": "stream",
     "text": [
      "7 5 0.5 98.0269058296\n",
      "12 5 0.5 98.0269058296\n"
     ]
    },
    {
     "name": "stderr",
     "output_type": "stream",
     "text": [
      "\n"
     ]
    }
   ],
   "source": [
    "dictionary, key_list = train_tune(list_of_message_vectors, list_of_message_vectors_dev, theta_array, 50, 0.5)\n",
    "\n",
    "#printing epoch, mini-batch size, learning rate, and accuracy with accuracies over 98%\n",
    "for key in key_list:\n",
    "    if float(dictionary[key]) > 98.0:\n",
    "        print key, dictionary[key]\n",
    "    else:\n",
    "        continue"
   ]
  },
  {
   "cell_type": "code",
   "execution_count": null,
   "metadata": {
    "collapsed": true
   },
   "outputs": [],
   "source": []
  }
 ],
 "metadata": {
  "kernelspec": {
   "display_name": "Python 2",
   "language": "python",
   "name": "python2"
  },
  "language_info": {
   "codemirror_mode": {
    "name": "ipython",
    "version": 2
   },
   "file_extension": ".py",
   "mimetype": "text/x-python",
   "name": "python",
   "nbconvert_exporter": "python",
   "pygments_lexer": "ipython2",
   "version": "2.7.12"
  }
 },
 "nbformat": 4,
 "nbformat_minor": 2
}
